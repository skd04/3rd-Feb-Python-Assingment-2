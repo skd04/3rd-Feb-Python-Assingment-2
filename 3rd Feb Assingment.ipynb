{
 "cells": [
  {
   "cell_type": "markdown",
   "id": "44b4d5cc-6f2c-4352-8b67-44ec7908fc14",
   "metadata": {},
   "source": [
    "Which keyword is used to create a function? Create a function to return a list of odd numbers in the  range of 1 to 25. "
   ]
  },
  {
   "cell_type": "code",
   "execution_count": 1,
   "id": "98bfff5e-36a9-4324-b054-de17c35893ab",
   "metadata": {},
   "outputs": [
    {
     "name": "stdin",
     "output_type": "stream",
     "text": [
      "Put your ranage of number :  25\n"
     ]
    },
    {
     "name": "stdout",
     "output_type": "stream",
     "text": [
      "[1, 3, 5, 7, 9, 11, 13, 15, 17, 19, 21, 23, 25]\n"
     ]
    }
   ],
   "source": [
    "# \"def\" keyword is used for define a function or helps to create a new function in python.\n",
    "\n",
    "def odd_number():\n",
    "    user = int(input(\"Put your ranage of number : \"))\n",
    "    odd = []\n",
    "    for i in range(1, user+1):\n",
    "        if i % 2 != 0:\n",
    "            odd.append(i)\n",
    "        else:\n",
    "            pass\n",
    "    print(odd)\n",
    "\n",
    "odd_number()"
   ]
  },
  {
   "cell_type": "markdown",
   "id": "38654399-e698-4f07-8645-8dbf3c304f07",
   "metadata": {},
   "source": [
    "------------------------------------------------------------------------------------------------------------------------------\n",
    "Why *args and **kwargs is used in some functions? Create a function each for *args and **kwargs  to demonstrate their use. "
   ]
  },
  {
   "cell_type": "raw",
   "id": "bc72a4bd-7309-4d43-938c-f0e49daaf593",
   "metadata": {},
   "source": [
    "\"args\" is used for variable number of arguments and \"kwargs\" is used for keyword and variable numbers of arguments (Key , Values)"
   ]
  },
  {
   "cell_type": "code",
   "execution_count": 9,
   "id": "4fb76fe1-36ae-4db2-b166-73748c529fe4",
   "metadata": {},
   "outputs": [],
   "source": [
    "def even_number(*args):\n",
    "    \"\"\"\"Find Evens\"\"\"\n",
    "    even = []\n",
    "    for i in args:\n",
    "        if i % 2 == 0:\n",
    "            even.append(i)\n",
    "        else:\n",
    "            pass\n",
    "    print(even)"
   ]
  },
  {
   "cell_type": "code",
   "execution_count": 10,
   "id": "654e9d72-482c-496c-b40c-bfc4c624348d",
   "metadata": {},
   "outputs": [
    {
     "name": "stdout",
     "output_type": "stream",
     "text": [
      "[2, 4, 74, 8, 6, 8, 96, 4, 6]\n"
     ]
    }
   ],
   "source": [
    "even_number(1,2,3,4,5,63,74,8,7,6,8,96,4,6,3,9)"
   ]
  },
  {
   "cell_type": "code",
   "execution_count": 14,
   "id": "0d597696-0c3c-4ca4-9cb0-b2bb66a71fe1",
   "metadata": {},
   "outputs": [],
   "source": [
    "def key_values(**kwargs):\n",
    "    \"\"\"\"Find Evens\"\"\"\n",
    "    for key, values in kwargs.items():\n",
    "        print(f\"{key} : {values}\")"
   ]
  },
  {
   "cell_type": "code",
   "execution_count": 16,
   "id": "bdcf59d0-c69f-4be7-b44a-3a4af3593798",
   "metadata": {},
   "outputs": [
    {
     "name": "stdout",
     "output_type": "stream",
     "text": [
      "Name : Shankhadeep\n",
      "Age : 22\n",
      "Address : Kolkata\n",
      "Study : Data Science and Web Developement\n"
     ]
    }
   ],
   "source": [
    "key_values(Name = \"Shankhadeep\", Age = 22, Address = \"Kolkata\", Study = \"Data Science and Web Developement\")"
   ]
  },
  {
   "cell_type": "markdown",
   "id": "6d3e54b5-5e61-46f3-9478-e3566d15c6b1",
   "metadata": {},
   "source": [
    "------------------------------------------------------------------------------------------------------------------------------\n",
    "What is an iterator in python? Name the method used to initialise the iterator object and the method  used for iteration. Use these methods to print the first five elements of the given list [2, 4, 6, 8, 10, 12, 14,  16, 18, 20]. "
   ]
  },
  {
   "cell_type": "raw",
   "id": "b89bd5fa-b567-4e71-9524-cfd109e66814",
   "metadata": {},
   "source": [
    "Iterator is used to iterate over the object like lists, tuples, dics and sets. It allows sequential access to the elements of a collection of a container."
   ]
  },
  {
   "cell_type": "code",
   "execution_count": 18,
   "id": "bf6c598a-e4af-4af7-aec0-d4bc769ef2bf",
   "metadata": {},
   "outputs": [
    {
     "name": "stdout",
     "output_type": "stream",
     "text": [
      "2\n",
      "4\n",
      "6\n",
      "8\n",
      "10\n"
     ]
    }
   ],
   "source": [
    "ls = [2, 4, 6, 8, 10, 12, 14,  16, 18, 20]\n",
    "iterator = iter(ls)\n",
    "\n",
    "for i in range(5):\n",
    "    print(next(iterator))"
   ]
  },
  {
   "cell_type": "markdown",
   "id": "cd3c697d-43df-4098-8eeb-153ab84879f7",
   "metadata": {},
   "source": [
    "------------------------------------------------------------------------------------------------------------------------------\n",
    "What is a generator function in python? Why yield keyword is used? Give an example of a generator  function. "
   ]
  },
  {
   "cell_type": "raw",
   "id": "db2706ad-d963-426d-a4a9-b961dd1966bd",
   "metadata": {},
   "source": [
    "Genrator function is a function which helps to generate outcome sontinuously without holding into a memory.\n",
    "\"yield\" keyword is basically used to helps to create a generator function."
   ]
  },
  {
   "cell_type": "code",
   "execution_count": 30,
   "id": "adef33da-cb1d-4640-b9da-bdbfb7d4d60b",
   "metadata": {},
   "outputs": [],
   "source": [
    "def gent_factorial(n):\n",
    "    factorial = 1\n",
    "    while n > 0:\n",
    "        yield factorial\n",
    "        factorial *= n\n",
    "        n-=1"
   ]
  },
  {
   "cell_type": "code",
   "execution_count": 34,
   "id": "5c08347f-3511-4473-8602-e6a6d347d6bd",
   "metadata": {},
   "outputs": [
    {
     "name": "stdout",
     "output_type": "stream",
     "text": [
      "1\n",
      "6\n",
      "30\n",
      "120\n",
      "360\n",
      "720\n"
     ]
    }
   ],
   "source": [
    "for i in gent_factorial(6):\n",
    "    print(i)"
   ]
  },
  {
   "cell_type": "markdown",
   "id": "f9a3288f-a430-44e8-9987-3ae340cf9ac6",
   "metadata": {},
   "source": [
    "------------------------------------------------------------------------------------------------------------------------------\n",
    "Create a generator function for prime numbers less than 1000. Use the next() method to print the  first 20 prime numbers. "
   ]
  },
  {
   "cell_type": "code",
   "execution_count": 35,
   "id": "c1321c8b-9670-4bfd-80a8-cc93dc49579c",
   "metadata": {},
   "outputs": [
    {
     "name": "stdout",
     "output_type": "stream",
     "text": [
      "2\n",
      "3\n",
      "5\n",
      "7\n",
      "11\n",
      "13\n",
      "17\n",
      "19\n",
      "23\n",
      "29\n",
      "31\n",
      "37\n",
      "41\n",
      "43\n",
      "47\n",
      "53\n",
      "59\n",
      "61\n",
      "67\n",
      "71\n"
     ]
    }
   ],
   "source": [
    "def prime_number():\n",
    "    primes = []\n",
    "    for i in range(2, 1000):\n",
    "        for n in primes:\n",
    "            if i % n == 0:\n",
    "                break\n",
    "        else:\n",
    "            primes.append(i)\n",
    "            yield i\n",
    "\n",
    "primes_num = prime_number()\n",
    "\n",
    "for i in range(20):\n",
    "    print(next(primes_num))"
   ]
  },
  {
   "cell_type": "markdown",
   "id": "7507d38b-910b-4259-a75c-d2b2605c186d",
   "metadata": {},
   "source": [
    "------------------------------------------------------------------------------------------------------------------------------\n",
    "Write a python program to print the first 10 Fibonacci numbers using a while loop"
   ]
  },
  {
   "cell_type": "code",
   "execution_count": 37,
   "id": "a43ede74-b180-45fa-943c-7ef6738f8ca6",
   "metadata": {},
   "outputs": [
    {
     "name": "stdout",
     "output_type": "stream",
     "text": [
      "0\n",
      "1\n",
      "1\n",
      "2\n",
      "3\n",
      "5\n",
      "8\n",
      "13\n",
      "21\n",
      "34\n",
      "55\n"
     ]
    }
   ],
   "source": [
    "def fibonacci(n):\n",
    "    a, b = 0, 1\n",
    "    for i in range(n+1):\n",
    "        print(a)\n",
    "        a, b = b, b + a\n",
    "\n",
    "fibonacci(10)"
   ]
  },
  {
   "cell_type": "markdown",
   "id": "a841921e-8650-4c0e-95b6-55c20b67333a",
   "metadata": {},
   "source": [
    "-------------------------------------------------------------------------------------------------------------------------------\n",
    "Write a List Comprehension to iterate through the given string: ‘pwskills’. \n",
    "Expected output: ['p', 'w', 's', 'k', 'i', 'l', 'l', 's']  "
   ]
  },
  {
   "cell_type": "code",
   "execution_count": 40,
   "id": "e9c34290-bceb-4ac0-bc7e-304a79db4f82",
   "metadata": {},
   "outputs": [
    {
     "data": {
      "text/plain": [
       "['p', 'w', 's', 'k', 'i', 'l', 'l', 's']"
      ]
     },
     "execution_count": 40,
     "metadata": {},
     "output_type": "execute_result"
    }
   ],
   "source": [
    "[i for i in \"pwskills\"]"
   ]
  },
  {
   "cell_type": "markdown",
   "id": "e38c67ca-5c8d-44b1-a6eb-aca9ce613db4",
   "metadata": {},
   "source": [
    "------------------------------------------------------------------------------------------------------------------------------\n",
    "Write a python program to check whether a given number is Palindrome or not using a while loop."
   ]
  },
  {
   "cell_type": "code",
   "execution_count": 43,
   "id": "a1f5eef8-bef8-4470-bc7f-7190518390c4",
   "metadata": {},
   "outputs": [
    {
     "name": "stdin",
     "output_type": "stream",
     "text": [
      "Check your number is palindrome or not :  553123\n"
     ]
    },
    {
     "name": "stdout",
     "output_type": "stream",
     "text": [
      "No!!It is not a Palindrome Number.\n"
     ]
    }
   ],
   "source": [
    "num = int(input(\"Check your number is palindrome or not : \"))\n",
    "\n",
    "org_num = num\n",
    "rev_num = 0 \n",
    "\n",
    "while num > 0:\n",
    "    remain_digit = num % 10\n",
    "    rev_num = rev_num * 10 + remain_digit\n",
    "    num //= 10\n",
    "\n",
    "if org_num == rev_num:\n",
    "    print(f\"Yes! It is a Palindrome Number, number is {rev_num}\")\n",
    "else:\n",
    "    print(\"No!!It is not a Palindrome Number.\")"
   ]
  },
  {
   "cell_type": "markdown",
   "id": "1725c66f-ba96-43ff-82e4-263bcc2e7c8a",
   "metadata": {},
   "source": [
    "------------------------------------------------------------------------------------------------------------------------------\n",
    "Write a code to print odd numbers from 1 to 100 using list comprehension. "
   ]
  },
  {
   "cell_type": "code",
   "execution_count": 52,
   "id": "5147de26-92f6-4c82-ad47-27df89c234b6",
   "metadata": {},
   "outputs": [
    {
     "name": "stdout",
     "output_type": "stream",
     "text": [
      "[1, 2, 3, 4, 5, 6, 7, 8, 9, 10, 11, 12, 13, 14, 15, 16, 17, 18, 19, 20, 21, 22, 23, 24, 25, 26, 27, 28, 29, 30, 31, 32, 33, 34, 35, 36, 37, 38, 39, 40, 41, 42, 43, 44, 45, 46, 47, 48, 49, 50, 51, 52, 53, 54, 55, 56, 57, 58, 59, 60, 61, 62, 63, 64, 65, 66, 67, 68, 69, 70, 71, 72, 73, 74, 75, 76, 77, 78, 79, 80, 81, 82, 83, 84, 85, 86, 87, 88, 89, 90, 91, 92, 93, 94, 95, 96, 97, 98, 99, 100]\n",
      "----------------------------------------------------------------------------------------------------------------------\n",
      "Odd Number filtered list :  [1, 3, 5, 7, 9, 11, 13, 15, 17, 19, 21, 23, 25, 27, 29, 31, 33, 35, 37, 39, 41, 43, 45, 47, 49, 51, 53, 55, 57, 59, 61, 63, 65, 67, 69, 71, 73, 75, 77, 79, 81, 83, 85, 87, 89, 91, 93, 95, 97, 99]\n"
     ]
    }
   ],
   "source": [
    "num_list = [i for i in range(1,101)]\n",
    "print(num_list)\n",
    "print(\"----------------------------------------------------------------------------------------------------------------------\")\n",
    "odd_num =[i for i in num_list if i % 2 != 0]\n",
    "print(\"Odd Number filtered list : \", odd_num)"
   ]
  }
 ],
 "metadata": {
  "kernelspec": {
   "display_name": "Python 3 (ipykernel)",
   "language": "python",
   "name": "python3"
  },
  "language_info": {
   "codemirror_mode": {
    "name": "ipython",
    "version": 3
   },
   "file_extension": ".py",
   "mimetype": "text/x-python",
   "name": "python",
   "nbconvert_exporter": "python",
   "pygments_lexer": "ipython3",
   "version": "3.10.8"
  }
 },
 "nbformat": 4,
 "nbformat_minor": 5
}
